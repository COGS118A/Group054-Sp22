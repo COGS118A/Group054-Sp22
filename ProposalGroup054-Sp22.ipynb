{
 "cells": [
  {
   "cell_type": "markdown",
   "metadata": {},
   "source": [
    "# COGS 118A- Project Proposal"
   ]
  },
  {
   "cell_type": "markdown",
   "metadata": {},
   "source": [
    "# Project Description\n",
    "\n",
    "You will design and execute a machine learning project. There are a few constraints on the nature of the allowed project. \n",
    "- The problem addressed will not be a \"toy problem\" or \"common training students problem\" like mtcars, iris, palmer penguins etc.\n",
    "- The dataset will have >1k observations and >5 variables. I'd prefer more like >10k observations and >10 variables. A general rule is that if you have >100x more observations than variables, your solution will likely generalize a lot better. The goal of training a supervised machine learning model is to learn the underlying pattern in a dataset in order to generalize well to unseen data, so choosing a large dataset is very important.\n",
    "\n",
    "- The project will include a model selection and/or feature selection component where you will be looking for the best setup to maximize the performance of your ML system.\n",
    "- You will evaluate the performance of your ML system using more than one appropriate metric\n",
    "- You will be writing a report describing and discussing these accomplishments\n",
    "\n",
    "\n",
    "Feel free to delete this description section when you hand in your proposal."
   ]
  },
  {
   "cell_type": "markdown",
   "metadata": {},
   "source": [
    "# Names\n",
    "\n",
    "- Taylor Drennen\n",
    "** I could not come in contact with my teammate so I wrote this on my own but here is everyone else in my group:\n",
    "- Jaime Altamirano-Ramirez\n",
    "- Aldair Olanda\n",
    "- Geoffrey Hand\n"
   ]
  },
  {
   "cell_type": "markdown",
   "metadata": {},
   "source": [
    "# Abstract \n",
    "\n",
    "The goal of this project is to accurately classify Pokemon based on its image. Data was made by Lance Zhang for his personal project that also involves Pokemon classification. The data consists of 150 different types of Pokemons from generation one, the original 150 Pokemon that were included in the game, Pokemon Go. There are around 25 - 50 images for each Pokemon. This data will be used to train the model that can label the images by their corresponding Pokemon. The accuracy will be measured using cross-validation.\n"
   ]
  },
  {
   "cell_type": "markdown",
   "metadata": {},
   "source": [
    "# Background\n"
   ]
  },
  {
   "cell_type": "markdown",
   "metadata": {},
   "source": [
    "# Problem Statement\n",
    "\n",
    "The problem to be solved is to accurately predict the name of the Pokémon from a given image and assign it a class label. We will be building a classifier that can accurately classify Pokemon based on their physical feature. After training our model, we can get the pictures of Pokemon outside of this data and see if our model can predict that Pokemon name correctly. The only limitation to this model is that out of 898 Pokemon, data only consist of 150 Pokemon. Therefore, it will only be able to predict 150 out of 898 Pokemons."
   ]
  },
  {
   "cell_type": "markdown",
   "metadata": {},
   "source": [
    "# Data\n",
    "\n",
    "### Data Option 1\n",
    "- Link: https://www.kaggle.com/datasets/lantian773030/pokemonclassification\n",
    "- #of variables: 2 ( Name of Pokemon and Image)\n",
    "- #of observations: 7,000\n",
    "\n",
    "### Data Option 2\n",
    "- Link: https://www.kaggle.com/datasets/vishalsubbiah/pokemon-images-and-types\n",
    "- #of variables: 3 (Name of Pokemon, Image, Primary Type, Secondary Type)\n",
    "- #of observations: 809\n",
    "\n",
    "There are 2 ways I would consider classifying Pokemon: identify different Pokemons or classify each Pokemon by its type. Option1 is best for the first type of classification while option 2 would be used for the 2nd method of classification. Choosing either option requires me to convert images to an array of pixels. For the name of Pokemon and type, there should not be any need to change them to a numerical value and can be used as it is. In addition, if option 2 is picked, there are pokemon with no secondary type; thus, those have to be given a NaN value. There option of figuring out overlapping pokemon data in both data sets to use for both Pokemon classification along with a prediction of type.\n"
   ]
  },
  {
   "cell_type": "markdown",
   "metadata": {},
   "source": [
    "# Proposed Solution\n",
    "\n",
    "There 3 different techniques I would like to explore through this project: Decision Trees. k-Nearest Neighbors, and Convoluti9onal Neural Network. These are common methods used for image classification.\n",
    "\n",
    "### Convolutional Neural Network (CNN)\n",
    "\n",
    "For this model, we need to normalize the pixel value. We also need to make sure all image is resized so that it all has the same size.\n",
    "The most critical component in the model is the convolutional layer. This part aims at reducing the size of the image for faster computations of the weights and improving its generalization. We will be using Keras neural network to help us choose the most relevant pixels from the image. With convolution, the network will learn specific patterns within the picture and will be able to recognize them everywhere in the picture. Many Pokemon has unique features; thus, this model can pick those feature up to help make the prediction. After convolution, the size of the image is reduced based on the size of the kernel chosen.\n",
    "We will be using Tensorflow to train the model.\n",
    "\n",
    "### K Nearest Neighbors (KNN) \n",
    "\n",
    "Hyperparameters of this model include distance metrics and k values.\n",
    "Using different distance metrics can alter the result. One method that will be used is the L1 distance function which is the sum of the differences between each pixel of the images. Another method would be to use L2 distance or Euclidean distance which is similar to L1 distance but will be taking the square root of the sum of differences between each image pixel.\n",
    "The way this model works is that there will be a testing set and a training set. First, for every testing set, we determine the minimum value of L1 or L2 distance between each training data. From there we select the corresponding label of the training data with the smallest distance to the testing data. Will do this for each testing data in the set.\n",
    "There will be 2 models with L1 and L2 distances which will run through different values of K to see the best k value for the model. From there, we select the best model between the two.\n",
    "\n",
    "### Support Vector Machines (SVM) \n",
    "\n",
    "We will plot data in 2-dimensional space with the value of each feature being the value of a particular coordinate. The classification is performed by finding the hyper-plane that differentiates the two classes very well.\n",
    "For this model, we may need to convert each pokemon to a numeric value. We also need to make sure all image is resized so that it all has the same size.\n",
    "Hyperparameters of this model include gamma,c, and type of kernel. We will be using the GridSearchCV function in the Sklearn library to help loop through these parameters to find the best fit for the model.\n",
    "\n",
    "### Libraries\n",
    "\n",
    "- Numpy: convert images to NumPy array\n",
    "- Sklearn: help split data for training and test for validation purposes\n",
    "- TensorFlow: assist with a model with a neural network\n",
    "- Pandas: convert data to a data frame for any data processing\n",
    "- pathlib: help access each image in the folder\n",
    "- OS: help access each image in the folder\n",
    "- Matplotlib: plot each image\n"
   ]
  },
  {
   "cell_type": "markdown",
   "metadata": {},
   "source": [
    "# Evaluation Metrics\n",
    "\n",
    "In order to evaluate the accuracy of our model, we will be using k-Fold Cross-Validation. Essentially doing cross-validation for k number of times. First, we split data into K fold. K-1 fold for training and 1 fold for test and perform cross-validation for k number of times. Cross-validation is done by comparing the test labels with labels predicted with our model that is trained on training data. The accuracy of the model would be the average of all the validation. We would most likely pick K = 10 since it is an optimized value of K and is commonly used. We will be going through the evaluation process for each model and for each hyperparameter of the model.\n"
   ]
  },
  {
   "cell_type": "markdown",
   "metadata": {},
   "source": [
    "# Ethics & Privacy"
   ]
  },
  {
   "cell_type": "markdown",
   "metadata": {},
   "source": [
    "There is no issue of privacy in this dataset as we are dealing with fictional characters. There may be bias in our data since we are only dealing with a few out of many types of Pokemon. However, we are exclusively claimed that our data is only dealing with first-generation Pokemon. If we were going for Pokemon type classification, there may be bias in the weight of each type. In other words, there may not be an equal number of data for each type of Pokemon. There is no obvious threat to ethics and privacy for this project using chosen dataset."
   ]
  },
  {
   "cell_type": "markdown",
   "metadata": {},
   "source": [
    "# Team Expectations "
   ]
  },
  {
   "cell_type": "markdown",
   "metadata": {},
   "source": []
  },
  {
   "cell_type": "markdown",
   "metadata": {},
   "source": [
    "# Project Timeline Proposal"
   ]
  },
  {
   "cell_type": "markdown",
   "metadata": {},
   "source": [
    "\n",
    "| Meeting Date  | Meeting Time| Completed Before Meeting  | Discuss at Meeting |\n",
    "|---|---|---|---|\n",
    "| 4/24  | Before 11:59 PM  |  Work on project proposal (Taylor)  | Turni in project proposal\n",
    "| 6/11  | Before 11:59 PM  | NA | Turn in Final Project  |"
   ]
  },
  {
   "cell_type": "markdown",
   "metadata": {},
   "source": [
    "# Footnotes\n",
    "<a name=\"lorenznote\"></a>1.[^](#lorenz): Lorenz, T. (9 Dec 2021) Birds Aren’t Real, or Are They? Inside a Gen Z Conspiracy Theory. *The New York Times*. https://www.nytimes.com/2021/12/09/technology/birds-arent-real-gen-z-misinformation.html<br> \n",
    "\n"
   ]
  },
  {
   "cell_type": "code",
   "execution_count": null,
   "metadata": {},
   "outputs": [],
   "source": []
  }
 ],
 "metadata": {
  "kernelspec": {
   "display_name": "Python 3",
   "language": "python",
   "name": "python3"
  },
  "language_info": {
   "codemirror_mode": {
    "name": "ipython",
    "version": 3
   },
   "file_extension": ".py",
   "mimetype": "text/x-python",
   "name": "python",
   "nbconvert_exporter": "python",
   "pygments_lexer": "ipython3",
   "version": "3.8.5"
  }
 },
 "nbformat": 4,
 "nbformat_minor": 2
}

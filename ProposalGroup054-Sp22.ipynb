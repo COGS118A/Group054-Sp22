{
 "cells": [
  {
   "cell_type": "markdown",
   "metadata": {},
   "source": [
    "# COGS 118A- Project Proposal"
   ]
  },
  {
   "cell_type": "markdown",
   "metadata": {},
   "source": [
    "# Will Your Car Hold Its Value?"
   ]
  },
  {
   "cell_type": "markdown",
   "metadata": {},
   "source": [
    "# Names\n",
    "\n",
    "- Taylor Drennen\n",
    "- Jaime Altamirano-Ramirez\n",
    "- Geoffrey Hand\n"
   ]
  },
  {
   "cell_type": "markdown",
   "metadata": {},
   "source": [
    "# Abstract \n",
    "\n",
    "Our project’s main objective is to create a model that predicts whether the used car will hold its value based on the year, model, mileage, and maker of the car. We will be using a dataset that contains used car prices along with the features stated above to train the model. In addition, to determine whether the used cars listed in the data held their value, we will determine the standard depreciation threshold based on Manufacturer Suggested Retail Price (MSRP) extracted from the CARFAX website and create a new feature of the data. The model will be trained using a multivariate dataset classification algorithm such as a Support-Vector Machine (SVM) and K-Nearest Neighbors (KNN). We will be using cross-validation to measure the performance of this model. \n"
   ]
  },
  {
   "cell_type": "markdown",
   "metadata": {},
   "source": [
    "# Background\n"
   ]
  },
  {
   "cell_type": "markdown",
   "metadata": {},
   "source": [
    "# Problem Statement\n",
    "\n",
    "The problem we aim to solve is whether a car will hold its market value at the time of selling. To elaborate, we plan on creating a reliable algorithm that can determine whether a car is likely to be sold at or above its depreciation value at the point of sale. With car prices nearing a record high, the desire to know whether a used car will hold its value is an important decision car owners are having to make. Given that there are a lot of variables that come into play when selling a car (e.g.make, model, mileage, location, year, condition, etc), and that some variables may hold more weight than others (such as the year of a car being a bigger factor than its mileage), we intend to compare a few models while optimizing our hyperparameters. We plan on turning our string data, such as location, into numerical data to align with the bulk of our expected variables which will be float types for our code. On a separate note, the global automobile market is expected to continue rising and the compound annual growth rate is expected to be 3.7% from 2020-to 2030 <a name=\"renub\"></a>[<sup>[1]</sup>](#renub) . Therefore, more used cars will be entering the market and allow for future data collection and analysis to be done.\n"
   ]
  },
  {
   "cell_type": "markdown",
   "metadata": {},
   "source": [
    "# Data\n",
    "\n",
    "#### Used car price dataset\n",
    "https://www.kaggle.com/datasets/harikrishnareddyb/used-car-price-predictions/code\n",
    "- 8 Variables\n",
    "- 852122 Observations\n",
    "- May take out columns that we are not using and check for any Nan Variable\n",
    "- Need to convert a string variable to an integer through one-hot encoding \n",
    "\n",
    "#### Manufacturer Suggested Retail Price (MSRP)\n",
    "https://www.cars.com/research/{make}-{model}-{year}\n",
    "- Create a new dataset by collecting the MSRP of all vehicles in the previous dataset from the website linked above\n",
    "- Retrieve MSRP from the website\n",
    "- Model, year, and make is provided by the previous dataset\n",
    "\n",
    "Based on the MSRP and price of the car, we will create a new feature called “hold value” which holds a boolean value that represents whether the price of the car is below the depreciation threshold.\n",
    "\n"
   ]
  },
  {
   "cell_type": "markdown",
   "metadata": {},
   "source": [
    "# Proposed Solution\n",
    "\n",
    "For the purpose of this project, we will need a multivariate dataset classification model. The final model should take in the year, model, maker, and mileage of the car and determine if it will hold its value or in other words if the predicted price would be above the standard depreciation threshold.  As a group, we decided to compare the SVM and KNN algorithms to determine the best model for this project. \n",
    " \n",
    "#### Support-Vector Machine (SVM)\n",
    "\n",
    "SVM is a supervised learning technique; thus we will be training this model with the dataset.  We will be finding hyperplanes that divide the data into two clusters that determine whether the predicting datapoint holds value or not. SVM uses a kernel function to help calculate hyperplanes. This allows us to have a smoother calculation for the multidimensional dataset. For this project, we will use a linear kernel.  This model will be implemented using the SVM function from the sklearn library. \n",
    "\n",
    "To optimize this model, we will be changing the margin. The margin is the distance between the hyperplane and the nearest data, also known as the supporting vector. For the purpose of optimization, we want to maximize the margin; therefore, different weight vectors can be considered during evaluation.\n",
    "\n",
    "#### K-Nearest Neighbors (KNN)\n",
    "\n",
    "KNN is also a supervised learning technique; thus we will be training this model with the dataset. The KNN algorithm is simple, we are looking for a label of training data that has the shortest Euclidean distance from the predicted data point. K value determines how many data points will be taken into consideration. It is a majority rule technique, and it has non-linear decision boundaries so it may be more effective for training data with multiple features. To simplify the implementation, we will also be using the KNeighborsClassifiers function from the sklearn library.\n",
    "\n",
    "The concern with this algorithm is computation cost. The cost of calculating the distance between a new point and each existing point is very high. Since we are going to be using high-dimensional data, the cost of computation can be high. \n",
    "\n",
    "The KNN algorithm can be optimized by finding the most effective K value. We will be evaluating multiple K values\n"
   ]
  },
  {
   "cell_type": "markdown",
   "metadata": {},
   "source": [
    "# Evaluation Metrics\n",
    "\n",
    "We will be using simple cross-validation to evaluate our model performance. We will divide the randomized data into a training set and a validation set.  The output of the model that was trained will be compared with the validation set to get the confusion matrix. The final score that determines the performance of our model will be given by the F1 score. Initially, we will look at Accuracy to see if our model is good enough to predict correctly. Then, we will look at the F1 score to minimize false negatives. \n",
    "\n",
    "##### Accuracy: The ability of a model to accurately predict.\n",
    "$Accuray = \\frac{TP+TN}{TP+TN+FP+FN}$\n",
    "\n",
    "##### Recall/Sensitivity:  The ability of a model to find all the relevant cases within a data set.\n",
    "$Recall = \\frac{TP}{TP+FN}$\n",
    "\n",
    "##### Precision:  The ability of a model to identify only the relevant data points.\n",
    "$Precision = \\frac{TP}{TP+FP}$\n",
    "\n",
    "##### F1 Score: optimal blend of precision and recall \n",
    "$F1 = \\frac{2*Recall*Precision}{Sensitivity + Recall}$\n",
    "\n"
   ]
  },
  {
   "cell_type": "markdown",
   "metadata": {},
   "source": [
    "# Ethics & Privacy\n",
    "\n",
    "The data we are retrieving from Kaggle contains attributes of the car and the value it was sold for. Given that we are not collecting or using personal information of individuals, we do not have to worry about informed consent of individuals. If we were to collect further data, we would discard any identifiable information from the individual or car- such as vehicle identification number. \n",
    "\n",
    "Although not yet apparent, we do speculate that there could be some bias towards the data collection for specific regions since more than 20% of the data collected comes from California and Texas, but this could be due to these two states being the most populated in the United States <a name=\"uscb\"></a>[<sup>[2]</sup>](#uscb). Thus, we plan on using the state location of a vehicle as an independent variable but also may experiment with stratified k-fold cross validation. \n",
    "\n",
    "Although the model may be used to price hike a car that would otherwise be sold at a lower value or low-ball a seller who would otherwise sell the car at a higher price, we believe that the accurate representation of whether a used car will hold its value is important for such decision-making. There could be a more extreme case where the brand of vehicles can be looked down upon after noting that the car value does not hold. In such a situation, we would make a clear statement that the maker of the car is not the sole defining factor and that important variables, like mileage and year, play a large role in the value of cars. Moreover, we would hope to further develop the model by potentially weighing variables differently and observing learning curves to determine if the model would lead to more accurate results. \n",
    "\n",
    "As of now, we have talks of testing and monitoring for a concept drift but are unclear as to how we would implement it. After solidifying our model, we will further explain the limitations, shortcomings, and biases that exist in our model.\n"
   ]
  },
  {
   "cell_type": "markdown",
   "metadata": {},
   "source": [
    "# Team Expectations "
   ]
  },
  {
   "cell_type": "markdown",
   "metadata": {},
   "source": [
    "- The team will meet every week to check in on each other’s progress\n",
    "- All decision making will be made with a majority vote\n",
    "- The team will communicate primarily on Discord and will report the status of their part of the work if necessary\n",
    "- Keep each other accountable for deadlines decided as a team ( most likely the day of the meeting)\n"
   ]
  },
  {
   "cell_type": "markdown",
   "metadata": {},
   "source": [
    "# Project Timeline Proposal"
   ]
  },
  {
   "cell_type": "markdown",
   "metadata": {},
   "source": [
    "\n",
    "| Meeting Date  | Meeting Time| Completed Before Meeting  | Discuss at Meeting |\n",
    "|---|---|---|---|\n",
    "| 4/24  | Before 11:59 PM  |  Work on project proposal (Taylor)  | Turni in project proposal |\n",
    "| 5/4  | 7:00 PM  | NA   | Discuss Project Idea, Work on Proposal |\n",
    "| 5/19  | 5:00 PM  | Work on Proposal   | Project Checkpoint, Clean Up Dataset, Rediscuss model selection |\n",
    "| 5/21  | 4:00 PM  | Work on Checkpoint   | Run data through model, compare/evaluate models |\n",
    "| 6/1  | 4:00 PM  | Model Optimization  | Final Writeup, Evaluate Final Model Performance |\n",
    "| 6/11  | Before 11:59 PM  | NA | Turn in Final Project  |"
   ]
  },
  {
   "cell_type": "markdown",
   "metadata": {},
   "source": [
    "# Footnotes\n",
    "\n",
    "<a name=\"renub\"></a>1.[^](#renub): Global Automotive Market, Growth & Forecast, Impact of Coronavirus, Industry Trends, By Region, Opportunity Company Analysis. 2021. Research and Markets, https://www.researchandmarkets.com/reports/5447681/global-automotive-market-growth-and-forecast?utm_source=BW&utm_medium=PressRelease&utm_code=9r6nph&utm_campaign=1603404+-+Global+Automotive+Market%3a+COVID-19%2c+Growth+%26+Forecast+2020-2030&utm_exec=joca. Accessed 20th May 2022.<br> \n",
    "<a name=\"uscb\"></a>2.[^](#uscb): U.S. Census Bureau quickfacts: Idaho. (n.d.). Retrieved May 21, 2022, from https://www.census.gov/quickfacts/geo/chart/ID/PST045221<br>"
   ]
  },
  {
   "cell_type": "code",
   "execution_count": null,
   "metadata": {},
   "outputs": [],
   "source": []
  }
 ],
 "metadata": {
  "kernelspec": {
   "display_name": "Python 3",
   "language": "python",
   "name": "python3"
  },
  "language_info": {
   "codemirror_mode": {
    "name": "ipython",
    "version": 3
   },
   "file_extension": ".py",
   "mimetype": "text/x-python",
   "name": "python",
   "nbconvert_exporter": "python",
   "pygments_lexer": "ipython3",
   "version": "3.8.5"
  }
 },
 "nbformat": 4,
 "nbformat_minor": 2
}

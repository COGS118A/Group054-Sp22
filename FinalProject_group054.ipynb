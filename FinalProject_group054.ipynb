{
 "cells": [
  {
   "cell_type": "markdown",
   "metadata": {},
   "source": [
    "# COGS 118A - Final Project"
   ]
  },
  {
   "cell_type": "markdown",
   "metadata": {},
   "source": [
    "# Will Your Car Hold Its Value?\n",
    "\n",
    "## Group members\n",
    "\n",
    "- Taylor Drennen\n",
    "- Jaime Altamirano-Ramirez\n",
    "- Geoffrey Hand"
   ]
  },
  {
   "cell_type": "markdown",
   "metadata": {},
   "source": [
    "# Abstract \n",
    "\n",
    "Our project’s main objective is to create a model that predicts whether the used car will hold its value based on the year, model, mileage, and maker of the car. We used a dataset that contains used car prices along with the features stated above to train the model. In addition, to determine whether the used cars listed in the data held their value, we determined the standard depreciation threshold based on Manufacturer Suggested Retail Price (MSRP) extracted from the CARFAX website and created a new feature of the data. The model was trained using a multivariate dataset classification algorithm such as a Support-Vector Machine (SVM) and Decision Tree and used cross-validation to measure the performance of this model. After a close inspection of validation scores, and computational cost, we have chosen the best model to classify used cars based on the specified feature.\n"
   ]
  },
  {
   "cell_type": "markdown",
   "metadata": {},
   "source": [
    "# Background\n",
    "\n",
    "In the modern society, it is undeniable that the car is essial asset to live. However, it is also considered luxury item due to its expense. Not everyone can afford brand new car; therefor, many people opt out for used car instead. During pandemic, due to low supply of semiconductor chips, the car production declined. As a result, there were not enough new cars for people to purchase, forcing car buyers into used car market  instead <a name=\"fried\"></a>[<sup>[3]</sup>](#fried).  SInce there is always a demand for used car, there is also demand for people to sell their cars. The common concern people may have when they sell their cars is whether they are getting good deal out of it. That is the question our model will be answering. \n",
    "\n",
    "In the past, there were several other projects with purpose of price prediction of Used Cars. In 2021, IEEE published their used car prediction model. Many of these project focuses on price prediction for seller. The used car dealer spend their time and effort on the market to assess used vehicles.They check the vehicle's model, year of production, condition, and mileage, among others <a name=\"ieee\"></a>[<sup>[4]</sup>](#ieee). Thus, the used car price prediction model typically used those feature to predict the price. \n",
    "\n",
    "This project also go into price prediction just like IEEE project. However, we will be evaluating whether the price is fair. To evaluate this, we wil lexamine car depreciation rate. According to Carmax,  the value of a new vehicle drops by about 20% in the first year of ownership and over the next four years, you can expect your car to lose roughly 15% of its value each year <a name=\"carmax\"></a>[<sup>[5]</sup>](#carmax). Based on this fact, we can calculate standard depreciation threshold that decides whether the used car price is following the standard of depreciation rate and if not, it means that car did not hold it’s value. This will allow seller to see if they are selling the car for rightful price. In addition, buyer can see if they are paying the fair price. Our goal is for this model to benefit sellers, buyers, and car manufacturers in the used cars market."
   ]
  },
  {
   "cell_type": "markdown",
   "metadata": {},
   "source": [
    "# Problem Statement\n",
    "\n",
    "The problem we aim to solve is whether a car will hold its market value at the time of selling. To elaborate, we plan on creating a reliable algorithm that can determine whether a car is likely to be sold at or above its depreciation value at the point of sale. With car prices nearing a record high, the desire to know whether a used car will hold its value is an important decision car owners are having to make. Given that there are a lot of variables that come into play when selling a car (e.g.make, model, mileage, location, year, condition, etc), and that some variables may hold more weight than others (such as the year of a car being a bigger factor than its mileage), we intend to compare a few models while optimizing our hyperparameters. We plan on turning our string data, such as location, into numerical data to align with the bulk of our expected variables which will be float types for our code. On a separate note, the global automobile market is expected to continue rising and the compound annual growth rate is expected to be 3.7% from 2020-to 2030 <a name=\"renub\"></a>[<sup>[1]</sup>](#renub) . Therefore, more used cars will be entering the market and allow for future data collection and analysis to be done.\n"
   ]
  },
  {
   "cell_type": "markdown",
   "metadata": {},
   "source": [
    "# Data\n",
    "\n",
    "\n",
    "#### Used car price dataset\n",
    "https://www.kaggle.com/datasets/harikrishnareddyb/used-car-price-predictions/code\n",
    "- 8 Variables\n",
    "- 852122 Observations\n",
    "- May take out columns that we are not using and check for any Nan Variable\n",
    "- Need to convert a string variable to an integer through one-hot encoding \n",
    "\n",
    "#### Manufacturer Suggested Retail Price (MSRP)\n",
    "https://www.cars.com/research/{make}-{model}-{year}\n",
    "- Create a new dataset by collecting the MSRP of all vehicles in the previous dataset from the website linked above\n",
    "- Retrieve MSRP from the website\n",
    "- Model, year, and make is provided by the previous dataset\n",
    "\n",
    "#### Data Handling\n",
    "If the data cleaning process is very long (e.g., elaborate text processing) consider describing it briefly here in text, and moving the actual clearning process to another notebook in your repo (include a link here!)\n",
    "\n",
    "http://localhost:8888/edit/Documents/College/2021-2022/2022%20Spring/COGA%20118A/Group054-Sp22/data_cleaning.py"
   ]
  },
  {
   "cell_type": "markdown",
   "metadata": {},
   "source": [
    "# Proposed Solution\n",
    "\n",
    "For the purpose of this project, we will need a multivariate dataset classification model. The final model should take in the year, model, maker, and mileage of the car and determine if it will hold its value or in other words if the predicted price would be above the standard depreciation threshold.  As a group, we decided to compare the SVM and KNN algorithms to determine the best model for this project. \n",
    " \n",
    "#### Support-Vector Machine (SVM)\n",
    "\n",
    "SVM is a supervised learning technique; thus we will be training this model with the dataset.  We will be finding hyperplanes that divide the data into two clusters that determine whether the predicting datapoint holds value or not. SVM uses a kernel function to help calculate hyperplanes. This allows us to have a smoother calculation for the multidimensional dataset. For this project, we will use a linear kernel, otherwise due to  dataset hainge large quanity of data and decent amount of features, it would take long time to train the model.  This model will be implemented using the SVM function from the sklearn library. \n",
    "\n",
    "To optimize this model, we will be changing the margin. The margin is the distance between the hyperplane and the nearest data, also known as the supporting vector. For the purpose of optimization, we want to maximize the margin; therefore, different weight vectors can be considered during evaluation.\n",
    "\n",
    "#### Decision Tree\n",
    "\n",
    "DT is also a form of the supervised learning algorithm. It allows our model to learn simple decision rules inferred from the data feature. We will be optimizing the minimum impurity decrease. What it does is stop a split if the amount of decrease from the split is less than the entered amount. Optimizing minimum impurity decrease will stop a split if the amount of decrease from the split is less than the entered amount. This will allow us to have a tree with terminal nodes composed of a reasonable number of samples.\n",
    "\n",
    "#### Required Libraries\n",
    "- numpy\n",
    "- requests\n",
    "- bs4\n",
    "- tqdm\n",
    "- black\n",
    "- ipykernel\n",
    "- pandas\n",
    "- matplotlib\n",
    "- isort\n",
    "- pylint\n",
    "- jinja2\n",
    "- sklearn\n"
   ]
  },
  {
   "cell_type": "markdown",
   "metadata": {},
   "source": [
    "# Evaluation Metrics\n",
    "\n",
    "We will be using simple cross-validation to evaluate our model performance. We will divide the randomized data into a training set and a validation set.  The output of the model that was trained will be compared with the validation set to get the confusion matrix. The final score that determines the performance of our model will be given by the F1 score to minimize false negatives. F1 score will be used for model selection, and ROC curve will be used to see overall performance of our model.\n",
    "\n",
    "##### Accuracy: The ability of a model to accurately predict.\n",
    "$Accuray = \\frac{TP+TN}{TP+TN+FP+FN}$\n",
    "\n",
    "##### Recall/Sensitivity:  The ability of a model to find all the relevant cases within a data set.\n",
    "$Recall = \\frac{TP}{TP+FN}$\n",
    "\n",
    "##### Precision:  The ability of a model to identify only the relevant data points.\n",
    "$Precision = \\frac{TP}{TP+FP}$\n",
    "\n",
    "##### F1 Score: optimal blend of precision and recall \n",
    "$F1 = \\frac{2*Recall*Precision}{Sensitivity + Recall}$\n",
    "\n",
    "#### Receiver Operating Characteristic(ROC) curve\n",
    "There are two parameters of the ROC Curve: \n",
    "\n",
    "\n",
    "$True Positive Rate(TPR) = Recall = \\frac{TP}{TP+FN}$\n",
    "\n",
    "\n",
    "$False Positive Rate (FPR) = \\frac{FP}{FP+TN}$\n",
    "\n",
    "ROC curve plots TPR vs FPR at different classification thresholds, in our cade different hyperparameters. It illustrates the performance of a classification model. To Evaluate the performance, we will look at Area Under the ROC Curve (AUC). AUC can be interpreted as the probability of our model ranking a random positive example more highly than a random negative example. The Higher the AUC, the better the model is at distinguishing between classes. ROC curve allows us to see how much the model is capable of distinguishing between classes. "
   ]
  },
  {
   "cell_type": "markdown",
   "metadata": {},
   "source": [
    "# Results\n"
   ]
  },
  {
   "cell_type": "code",
   "execution_count": 1,
   "metadata": {},
   "outputs": [
    {
     "name": "stdout",
     "output_type": "stream",
     "text": [
      "Note: you may need to restart the kernel to use updated packages.\n"
     ]
    }
   ],
   "source": [
    "%pip install --quiet -r requirements.txt\n",
    "\n",
    "from data_cleaning import clean_dataframe, append_msrp, append_retains_value, get_expected_value\n",
    "import pandas as pd\n",
    "import numpy as np\n",
    "import matplotlib.pyplot as plt\n",
    "from sklearn.model_selection import train_test_split\n",
    "from sklearn.pipeline import Pipeline\n",
    "from sklearn.svm import SVC, LinearSVC\n",
    "from sklearn.preprocessing import StandardScaler, OneHotEncoder\n",
    "from sklearn.compose import ColumnTransformer\n",
    "from sklearn import tree\n",
    "from sklearn.metrics import roc_auc_score, roc_curve, confusion_matrix\n"
   ]
  },
  {
   "cell_type": "markdown",
   "metadata": {},
   "source": [
    "# Results\n",
    "\n",
    "Majority of our model training was done under:\n",
    "\n",
    "http://localhost:8888/edit/Documents/College/2021-2022/2022%20Spring/COGA%20118A/Group054-Sp22/model_utilities.py\n",
    "\n",
    "### Data Analysis"
   ]
  },
  {
   "cell_type": "code",
   "execution_count": 2,
   "metadata": {},
   "outputs": [],
   "source": [
    "\n",
    "# Cleaning takes ~20mins, so we try to avoid repeating it\n",
    "try:\n",
    "    df = pd.read_csv(\"true_car_cleaned.csv\", index_col=0)\n",
    "except FileNotFoundError:\n",
    "    # source: https://www.kaggle.com/datasets/harikrishnareddyb/used-car-price-predictions\n",
    "    df = pd.read_csv(\"true_car_listings.csv\")\n",
    "    df = clean_dataframe(df)\n",
    "    df = append_msrp(df)\n",
    "    df = append_retains_value(df)\n",
    "    df = df.dropna()\n"
   ]
  },
  {
   "cell_type": "code",
   "execution_count": 3,
   "metadata": {},
   "outputs": [
    {
     "data": {
      "text/html": [
       "<style  type=\"text/css\" >\n",
       "#T_a84f8_row0_col0,#T_a84f8_row1_col1,#T_a84f8_row2_col2,#T_a84f8_row3_col3,#T_a84f8_row4_col4,#T_a84f8_row5_col5{\n",
       "            background-color:  #b40426;\n",
       "            color:  #f1f1f1;\n",
       "        }#T_a84f8_row0_col1{\n",
       "            background-color:  #f7b599;\n",
       "            color:  #000000;\n",
       "        }#T_a84f8_row0_col2{\n",
       "            background-color:  #799cf8;\n",
       "            color:  #000000;\n",
       "        }#T_a84f8_row0_col3{\n",
       "            background-color:  #f7b79b;\n",
       "            color:  #000000;\n",
       "        }#T_a84f8_row0_col4,#T_a84f8_row3_col4,#T_a84f8_row4_col0{\n",
       "            background-color:  #df634e;\n",
       "            color:  #000000;\n",
       "        }#T_a84f8_row0_col5{\n",
       "            background-color:  #d4dbe6;\n",
       "            color:  #000000;\n",
       "        }#T_a84f8_row1_col0{\n",
       "            background-color:  #f1ccb8;\n",
       "            color:  #000000;\n",
       "        }#T_a84f8_row1_col2,#T_a84f8_row2_col0,#T_a84f8_row2_col1,#T_a84f8_row2_col3,#T_a84f8_row2_col4,#T_a84f8_row2_col5{\n",
       "            background-color:  #3b4cc0;\n",
       "            color:  #f1f1f1;\n",
       "        }#T_a84f8_row1_col3{\n",
       "            background-color:  #4a63d3;\n",
       "            color:  #f1f1f1;\n",
       "        }#T_a84f8_row1_col4{\n",
       "            background-color:  #f7b89c;\n",
       "            color:  #000000;\n",
       "        }#T_a84f8_row1_col5{\n",
       "            background-color:  #6687ed;\n",
       "            color:  #000000;\n",
       "        }#T_a84f8_row3_col0{\n",
       "            background-color:  #f39577;\n",
       "            color:  #000000;\n",
       "        }#T_a84f8_row3_col1{\n",
       "            background-color:  #cdd9ec;\n",
       "            color:  #000000;\n",
       "        }#T_a84f8_row3_col2{\n",
       "            background-color:  #c4d5f3;\n",
       "            color:  #000000;\n",
       "        }#T_a84f8_row3_col5{\n",
       "            background-color:  #6180e9;\n",
       "            color:  #000000;\n",
       "        }#T_a84f8_row4_col1{\n",
       "            background-color:  #f6a283;\n",
       "            color:  #000000;\n",
       "        }#T_a84f8_row4_col2{\n",
       "            background-color:  #779af7;\n",
       "            color:  #000000;\n",
       "        }#T_a84f8_row4_col3{\n",
       "            background-color:  #ea7b60;\n",
       "            color:  #000000;\n",
       "        }#T_a84f8_row4_col5{\n",
       "            background-color:  #6485ec;\n",
       "            color:  #000000;\n",
       "        }#T_a84f8_row5_col0{\n",
       "            background-color:  #edd1c2;\n",
       "            color:  #000000;\n",
       "        }#T_a84f8_row5_col1{\n",
       "            background-color:  #ccd9ed;\n",
       "            color:  #000000;\n",
       "        }#T_a84f8_row5_col2{\n",
       "            background-color:  #afcafc;\n",
       "            color:  #000000;\n",
       "        }#T_a84f8_row5_col3{\n",
       "            background-color:  #4358cb;\n",
       "            color:  #f1f1f1;\n",
       "        }#T_a84f8_row5_col4{\n",
       "            background-color:  #a1c0ff;\n",
       "            color:  #000000;\n",
       "        }</style><table id=\"T_a84f8_\" ><thead>    <tr>        <th class=\"blank level0\" ></th>        <th class=\"col_heading level0 col0\" >Price</th>        <th class=\"col_heading level0 col1\" >Year</th>        <th class=\"col_heading level0 col2\" >Mileage</th>        <th class=\"col_heading level0 col3\" >MSRP</th>        <th class=\"col_heading level0 col4\" >expected_value</th>        <th class=\"col_heading level0 col5\" >retains_value</th>    </tr></thead><tbody>\n",
       "                <tr>\n",
       "                        <th id=\"T_a84f8_level0_row0\" class=\"row_heading level0 row0\" >Price</th>\n",
       "                        <td id=\"T_a84f8_row0_col0\" class=\"data row0 col0\" >1.000000</td>\n",
       "                        <td id=\"T_a84f8_row0_col1\" class=\"data row0 col1\" >0.419120</td>\n",
       "                        <td id=\"T_a84f8_row0_col2\" class=\"data row0 col2\" >-0.431040</td>\n",
       "                        <td id=\"T_a84f8_row0_col3\" class=\"data row0 col3\" >0.656896</td>\n",
       "                        <td id=\"T_a84f8_row0_col4\" class=\"data row0 col4\" >0.811262</td>\n",
       "                        <td id=\"T_a84f8_row0_col5\" class=\"data row0 col5\" >0.386196</td>\n",
       "            </tr>\n",
       "            <tr>\n",
       "                        <th id=\"T_a84f8_level0_row1\" class=\"row_heading level0 row1\" >Year</th>\n",
       "                        <td id=\"T_a84f8_row1_col0\" class=\"data row1 col0\" >0.419120</td>\n",
       "                        <td id=\"T_a84f8_row1_col1\" class=\"data row1 col1\" >1.000000</td>\n",
       "                        <td id=\"T_a84f8_row1_col2\" class=\"data row1 col2\" >-0.770829</td>\n",
       "                        <td id=\"T_a84f8_row1_col3\" class=\"data row1 col3\" >0.016519</td>\n",
       "                        <td id=\"T_a84f8_row1_col4\" class=\"data row1 col4\" >0.521414</td>\n",
       "                        <td id=\"T_a84f8_row1_col5\" class=\"data row1 col5\" >0.008011</td>\n",
       "            </tr>\n",
       "            <tr>\n",
       "                        <th id=\"T_a84f8_level0_row2\" class=\"row_heading level0 row2\" >Mileage</th>\n",
       "                        <td id=\"T_a84f8_row2_col0\" class=\"data row2 col0\" >-0.431040</td>\n",
       "                        <td id=\"T_a84f8_row2_col1\" class=\"data row2 col1\" >-0.770829</td>\n",
       "                        <td id=\"T_a84f8_row2_col2\" class=\"data row2 col2\" >1.000000</td>\n",
       "                        <td id=\"T_a84f8_row2_col3\" class=\"data row2 col3\" >-0.039812</td>\n",
       "                        <td id=\"T_a84f8_row2_col4\" class=\"data row2 col4\" >-0.435089</td>\n",
       "                        <td id=\"T_a84f8_row2_col5\" class=\"data row2 col5\" >-0.151765</td>\n",
       "            </tr>\n",
       "            <tr>\n",
       "                        <th id=\"T_a84f8_level0_row3\" class=\"row_heading level0 row3\" >MSRP</th>\n",
       "                        <td id=\"T_a84f8_row3_col0\" class=\"data row3 col0\" >0.656896</td>\n",
       "                        <td id=\"T_a84f8_row3_col1\" class=\"data row3 col1\" >0.016519</td>\n",
       "                        <td id=\"T_a84f8_row3_col2\" class=\"data row3 col2\" >-0.039812</td>\n",
       "                        <td id=\"T_a84f8_row3_col3\" class=\"data row3 col3\" >1.000000</td>\n",
       "                        <td id=\"T_a84f8_row3_col4\" class=\"data row3 col4\" >0.812103</td>\n",
       "                        <td id=\"T_a84f8_row3_col5\" class=\"data row3 col5\" >-0.010448</td>\n",
       "            </tr>\n",
       "            <tr>\n",
       "                        <th id=\"T_a84f8_level0_row4\" class=\"row_heading level0 row4\" >expected_value</th>\n",
       "                        <td id=\"T_a84f8_row4_col0\" class=\"data row4 col0\" >0.811262</td>\n",
       "                        <td id=\"T_a84f8_row4_col1\" class=\"data row4 col1\" >0.521414</td>\n",
       "                        <td id=\"T_a84f8_row4_col2\" class=\"data row4 col2\" >-0.435089</td>\n",
       "                        <td id=\"T_a84f8_row4_col3\" class=\"data row4 col3\" >0.812103</td>\n",
       "                        <td id=\"T_a84f8_row4_col4\" class=\"data row4 col4\" >1.000000</td>\n",
       "                        <td id=\"T_a84f8_row4_col5\" class=\"data row4 col5\" >0.004994</td>\n",
       "            </tr>\n",
       "            <tr>\n",
       "                        <th id=\"T_a84f8_level0_row5\" class=\"row_heading level0 row5\" >retains_value</th>\n",
       "                        <td id=\"T_a84f8_row5_col0\" class=\"data row5 col0\" >0.386196</td>\n",
       "                        <td id=\"T_a84f8_row5_col1\" class=\"data row5 col1\" >0.008011</td>\n",
       "                        <td id=\"T_a84f8_row5_col2\" class=\"data row5 col2\" >-0.151765</td>\n",
       "                        <td id=\"T_a84f8_row5_col3\" class=\"data row5 col3\" >-0.010448</td>\n",
       "                        <td id=\"T_a84f8_row5_col4\" class=\"data row5 col4\" >0.004994</td>\n",
       "                        <td id=\"T_a84f8_row5_col5\" class=\"data row5 col5\" >1.000000</td>\n",
       "            </tr>\n",
       "    </tbody></table>"
      ],
      "text/plain": [
       "<pandas.io.formats.style.Styler at 0x28643e831f0>"
      ]
     },
     "execution_count": 3,
     "metadata": {},
     "output_type": "execute_result"
    }
   ],
   "source": [
    "# Correlation Matrix\n",
    "corr = df.corr()\n",
    "corr.style.background_gradient(cmap='coolwarm')"
   ]
  },
  {
   "cell_type": "markdown",
   "metadata": {},
   "source": [
    "We see the variable that will eventually become our class, `retains_value`, has very little correlation to `MSRP` and `Mileage`. This may suggest more of a connection between Make, Model, and specific model-years (since they aren't featured in this numerical-only matrix).\n",
    "\n",
    "`expected_value` is strongly correlated to `Price`, meaning on average our metric of depreciation mostly holds true. However, with this machine learning model we hope to further granularize this and give a better understanding of how different features affect how value is held (or not held)."
   ]
  },
  {
   "cell_type": "markdown",
   "metadata": {},
   "source": [
    "### Model 1: Decision Tree"
   ]
  },
  {
   "cell_type": "code",
   "execution_count": 4,
   "metadata": {},
   "outputs": [
    {
     "name": "stdout",
     "output_type": "stream",
     "text": [
      "Score: 0.758039060160417\n"
     ]
    }
   ],
   "source": [
    "X = df.drop('retains_value', axis=1)\n",
    "y = df['retains_value']\n",
    "\n",
    "numeric_features = ['Year', 'Mileage', 'MSRP']\n",
    "numeric_transformer = Pipeline(steps=[(\"scaler\", StandardScaler())])\n",
    "\n",
    "categorical_features = ['Make', 'Model']\n",
    "categorical_transformer = OneHotEncoder(handle_unknown='ignore')\n",
    "\n",
    "preprocessor = ColumnTransformer(\n",
    "    transformers=[\n",
    "        (\"num\", numeric_transformer, numeric_features),\n",
    "        (\"cat\", categorical_transformer, categorical_features)\n",
    "])\n",
    "\n",
    "classifier = tree.DecisionTreeClassifier(min_impurity_decrease=0.0002)\n",
    "\n",
    "clf = Pipeline(steps=[(\"preprocessor\", preprocessor), (\"classifier\", classifier)])\n",
    "\n",
    "X_train, X_test, y_train, y_test = train_test_split(X, y, test_size=0.2, random_state=42, stratify=y)\n",
    "clf.fit(X_train, y_train)\n",
    "score = clf.score(X_test, y_test)\n",
    "print(\"Score:\", score)"
   ]
  },
  {
   "cell_type": "markdown",
   "metadata": {},
   "source": [
    "##### Testing Hyperparameters"
   ]
  },
  {
   "cell_type": "code",
   "execution_count": 6,
   "metadata": {},
   "outputs": [
    {
     "name": "stdout",
     "output_type": "stream",
     "text": [
      "Best parameter=5.2631578947368424e-05 yields score 0.7800215292222771\n"
     ]
    }
   ],
   "source": [
    "params = [0, 0.0001, 0.001, 0.01, 0.1]\n",
    "params = np.linspace(0, 0.001, 20)\n",
    "scores = []\n",
    "for param in params:\n",
    "    # print(f\"min_impurity_decrease={param}\")\n",
    "    classifier = tree.DecisionTreeClassifier(min_impurity_decrease=param)\n",
    "\n",
    "    clf = Pipeline(steps=[(\"preprocessor\", preprocessor), (\"classifier\", classifier)])\n",
    "\n",
    "    X_train, X_test, y_train, y_test = train_test_split(X, y, test_size=0.2, random_state=42, stratify=y)\n",
    "    clf.fit(X_train, y_train)\n",
    "    score = clf.score(X_test, y_test)\n",
    "    # print(score)\n",
    "    scores.append(score)\n",
    "\n",
    "best_score = max(scores)\n",
    "best_param = params[scores.index(best_score)]\n",
    "print(f\"Best parameter={best_param} yields score {best_score}\")"
   ]
  },
  {
   "cell_type": "markdown",
   "metadata": {},
   "source": [
    "| Minimum Impurity Decrease  | Score|\n",
    "|---|---|\n",
    "| 0  | 0.7268  | \n",
    "| 0.0001 |0.76915  | \n",
    "| 0.001 |0.69285  |\n",
    "| 0.01 | 0.55105  |\n",
    "| 0.1 | 0.50345 |"
   ]
  },
  {
   "cell_type": "code",
   "execution_count": 7,
   "metadata": {},
   "outputs": [
    {
     "data": {
      "text/plain": [
       "[<matplotlib.lines.Line2D at 0x2864d063670>]"
      ]
     },
     "execution_count": 7,
     "metadata": {},
     "output_type": "execute_result"
    },
    {
     "data": {
      "image/png": "[encoded data removed]",
      "text/plain": [
       "<Figure size 432x288 with 1 Axes>"
      ]
     },
     "metadata": {
      "needs_background": "light"
     },
     "output_type": "display_data"
    }
   ],
   "source": [
    "plt.plot(params, scores)"
   ]
  },
  {
   "cell_type": "markdown",
   "metadata": {},
   "source": [
    "##### Model Evaluation"
   ]
  },
  {
   "cell_type": "code",
   "execution_count": 8,
   "metadata": {},
   "outputs": [
    {
     "name": "stdout",
     "output_type": "stream",
     "text": [
      "Area under the Receiver Operating Characteristic curve: 0.758703420866017\n"
     ]
    },
    {
     "data": {
      "image/png": "[encoded data removed]",
      "text/plain": [
       "<Figure size 600x400 with 1 Axes>"
      ]
     },
     "metadata": {
      "needs_background": "light"
     },
     "output_type": "display_data"
    }
   ],
   "source": [
    "scores = clf.predict_proba(X_test)[:,1]\n",
    "fpr = []\n",
    "tpr = []\n",
    "for threshold in np.linspace(0,1,1000):\n",
    "    y_pred = scores > threshold\n",
    "    true_negatives, false_positives, false_negatives, true_positives = confusion_matrix(y_test, y_pred).ravel()\n",
    "    fpr.append(false_positives / (false_positives + true_negatives)) # add false positive rate\n",
    "    tpr.append(true_positives / (true_positives + false_negatives)) # add true positive rate\n",
    "\n",
    "roc_auc = roc_auc_score(y_test, scores)\n",
    "# plotting the ROC curve\n",
    "plt.figure(dpi=100)\n",
    "plt.plot(fpr, tpr)\n",
    "plt.title('ROC curve')\n",
    "plt.xlabel('False Positive Rate')\n",
    "plt.ylabel('True Positive Rate')\n",
    "\n",
    "print('Area under the Receiver Operating Characteristic curve:', roc_auc)"
   ]
  },
  {
   "cell_type": "markdown",
   "metadata": {},
   "source": [
    "### Model 2: SVM"
   ]
  },
  {
   "cell_type": "code",
   "execution_count": 9,
   "metadata": {},
   "outputs": [],
   "source": [
    "# classifier = LinearSVC(verbose=1, dual=False)\n",
    "# classifier = SVC(verbose=1, kernel='linear')"
   ]
  },
  {
   "cell_type": "markdown",
   "metadata": {},
   "source": [
    "# Discussion\n",
    "\n",
    "### Interpreting the result\n",
    "\n",
    "There are three key results of our model selection: parameters, score, and runtime. For Decision Trees, we decided on optimizing the minimum impurity decrease, and as can be seen from the above section, the best minimum impurity decrease was 0.0001. Based on that parameter, the score came out to be 0.769. For SVM, we optimized the L1 error term. The best C parameter was decided to be 1 which gave us a score of 0.760. As seen by the scores, SVM and DT did have a significant difference in their ability to classify. However, in terms of usability, the decision tree was superior. With a large dataset, the computational cost would be too high if we continue with the SVM model. The decision tree had a much faster computation time with similar validation scores. Therefore, we would recommend using the DT model which has a less computational cost and decent classification ability. \n",
    "\n",
    "### Limitations\n",
    "\n",
    "There are some limitations to our model. Although our dataset is reasonably large (850k+ observations), not all brands or models of cars produced were included and, therefore, accounted for. Furthermore, there is an additional lack of data for car sales not being reported by individuals. Such data could potentially alter our results given that those who chose not to report the sales could have done so due to having sold for much higher or much lower prices than the MSRP obtained by CARFAX. We know such outliers could affect the results of our SVM model since the algorithm is known to be susceptible to irregularities. \n",
    "\n",
    "Additionally, if we had more time we would have liked to explore some unsupervised learning methods that could evaluate the hyperparameters differently and present features that we may have overlooked. For instance, we would like to run a principal component analysis (PCA) algorithm as an alternative method for extracting features. To elaborate, PCA is a dimensional reduction technique that minimizes information loss while increasing the interpretability of a dataset. Thus, large datasets that use numerous variables would be transformed and reduced into a “best” dimensional linear subspace and, in this case, give a strong indication of the most important features of a car that affect its resale value.\n",
    "\n",
    "We also would have liked to explore more hyperparameters that are not easily often thought of as factors that affect car sales. One such interesting example would be how car color can affect the mood of a buyer and, therefore, the sale of a car[2].\n",
    "\n",
    "\n",
    "### Ethics & Privacy\n",
    "\n",
    "The data we are retrieving from Kaggle contains attributes of the car and the value it was sold for. Given that we are not collecting or using personal information of individuals, we do not have to worry about informed consent of individuals. If we were to collect further data, we would discard any identifiable information from the individual or car- such as vehicle identification number. \n",
    "\n",
    "Although not yet apparent, we do speculate that there could be some bias towards the data collection for specific regions since more than 20% of the data collected comes from California and Texas, but this could be due to these two states being the most populated in the United States <a name=\"uscb\"></a>[<sup>[2]</sup>](#uscb). Thus, we plan on using the state location of a vehicle as an independent variable but also may experiment with stratified k-fold cross validation. \n",
    "\n",
    "Although the model may be used to price hike a car that would otherwise be sold at a lower value or low-ball a seller who would otherwise sell the car at a higher price, we believe that the accurate representation of whether a used car will hold its value is important for such decision-making. There could be a more extreme case where the brand of the vehicle can be looked down upon after noting that the car value does not hold. In such a situation, we would make a clear statement that the maker of the car is not the sole defining factor and that important variables, like mileage and year, play a large role in the value of cars. Moreover, we would hope to further develop the model by potentially weighing variables differently and observing learning curves to determine if the model would lead to more accurate results.\n",
    "\n",
    "As of now, we have talked of testing and monitoring for a concept drift but are unclear as to how we would implement it. After solidifying our model, we will further explain the limitations, shortcomings, and biases that exist in our model.\n",
    "\n",
    "### Conclusion\n",
    "\n",
    "The main point of our project was to create a multivariate dataset classification model for used cars that takes in the year, model, mileage, and maker of a car and decides whether the car’s predicted sale price would be greater than the car’s standard depreciation threshold. After comparing the accuracy, root mean square error and AUC for the Support Vector Machine and Decision Tree algorithms, we observed that the SVM algorithm presented slightly better results. However, due to the computational cost of running SVM, we believe the Decision Tree is the more optimal model given the faster computational time and similar score value associated with it when compared to the SVM model. Our model presented a desirable ROC (far from linear) and predictive score value (>72%). Thus, we are fairly confident that the model we created produces reasonably accurate predictions and can serve to tell buyers, sellers, and car manufacturers alike whether or not a car holds its value. Our decision to select the Decision Tree algorithm over the Support Vector Machine algorithm builds upon previous work done on used car price prediction models created using supervised learning techniques. The researchers tested the following supervised learning algorithms: linear regression, KNN, Random Forest, XG boost, and Decision tree. The article concluded that the decision tree regressor model had the median RMSE and R-squared value (~0.84) out of the five models. These results give the decision tree model some merit for being an accurate price predictor.  Future work for this problem would involve using data from different websites and countries to check for the reproducibility of our results. In addition, we believe that further enhancements can be made by implementing an ensemble learning algorithm that would create multiple decision/regression trees, greatly reducing the effect of overfitting.\n"
   ]
  },
  {
   "cell_type": "markdown",
   "metadata": {},
   "source": [
    "# Footnotes\n",
    "<a name=\"renub\"></a>1.[^](#renub): Global Automotive Market, Growth & Forecast, Impact of Coronavirus, Industry Trends, By Region, Opportunity Company Analysis. 2021. Research and Markets, https://www.researchandmarkets.com/reports/5447681/global-automotive-market-growth-and-forecast?utm_source=BW&utm_medium=PressRelease&utm_code=9r6nph&utm_campaign=1603404+-+Global+Automotive+Market%3a+COVID-19%2c+Growth+%26+Forecast+2020-2030&utm_exec=joca. Accessed 20th May 2022.<br> \n",
    "<a name=\"uscb\"></a>2.[^](#uscb): U.S. Census Bureau quickfacts: Idaho. (n.d.). Retrieved May 21, 2022, from https://www.census.gov/quickfacts/geo/chart/ID/PST045221<br>\n",
    "<a name=\"fried\"></a>3.[^](#fried): Fried, Carla, et al. “Dealers Might Not Profit from Soaring Used-Car Prices.” UCLA Anderson Review, UCLA Anderson Review, 16 Feb. 2022, https://anderson-review.ucla.edu/dealers-might-not-profit-from-soaring-used-car-prices/.  <br>\n",
    "<a name=\"ieee\"></a>4.[^](#ieee):Jin, Chuyang. “Price Prediction of Used Cars Using Machine Learning.” IEEE Xplore, IEEE, 8 Feb. 2022, https://ieeexplore.ieee.org/document/9696839. <br>\n",
    "<a name=\"carmax\"></a>5.[^](#carmax): Popely, Rick. “Car Depreciation: How Much It Costs You.” CARFAX, CARFAX, 26 Apr. 2021, https://www.carfax.com/blog/car-depreciation. <br>"
   ]
  },
  {
   "cell_type": "code",
   "execution_count": null,
   "metadata": {},
   "outputs": [],
   "source": []
  }
 ],
 "metadata": {
  "kernelspec": {
   "display_name": "Python 3",
   "language": "python",
   "name": "python3"
  },
  "language_info": {
   "codemirror_mode": {
    "name": "ipython",
    "version": 3
   },
   "file_extension": ".py",
   "mimetype": "text/x-python",
   "name": "python",
   "nbconvert_exporter": "python",
   "pygments_lexer": "ipython3",
   "version": "3.8.5"
  }
 },
 "nbformat": 4,
 "nbformat_minor": 2
}
